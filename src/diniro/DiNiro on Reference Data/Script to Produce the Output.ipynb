{
 "cells": [
  {
   "cell_type": "code",
   "execution_count": 1,
   "metadata": {},
   "outputs": [],
   "source": [
    "import pandas as pd"
   ]
  },
  {
   "cell_type": "code",
   "execution_count": 2,
   "metadata": {},
   "outputs": [],
   "source": [
    "def merge_and_transform(file1, file2, output_network_file, output_additional_file):\n",
    "    # Load the data from CSV files\n",
    "    sample_grn_s1 = pd.read_csv(file1)\n",
    "    sample_grn_s2 = pd.read_csv(file2)\n",
    "\n",
    "    # Transform for network data\n",
    "    # Rename and select the relevant columns for sample 1\n",
    "    sample_grn_s1_network = sample_grn_s1[['TFs', 'Genes', 'Weights']]\n",
    "    sample_grn_s1_network.columns = ['regulator', 'target', 'weight']\n",
    "    sample_grn_s1_network['condition'] = 'CD8 Exhausted'\n",
    "\n",
    "    # Rename and select the relevant columns for sample 2\n",
    "    sample_grn_s2_network = sample_grn_s2[['TFs', 'Genes', 'Weights']]\n",
    "    sample_grn_s2_network.columns = ['regulator', 'target', 'weight']\n",
    "    sample_grn_s2_network['condition'] = 'Macrophage'\n",
    "\n",
    "    # Combine the network dataframes\n",
    "    network_data = pd.concat([sample_grn_s1_network, sample_grn_s2_network])\n",
    "\n",
    "    # Reorder columns to match requested format for network data\n",
    "    network_data = network_data[['target', 'regulator', 'condition', 'weight']]\n",
    "\n",
    "    # Save network data to a TSV file\n",
    "    network_data.to_csv(output_network_file, sep='\\t', index=False)\n",
    "\n",
    "    # Transform for additional data\n",
    "    # Combine additional columns from both files\n",
    "    sample_grn_s1_additional = sample_grn_s1[['TFs', 'Genes', 'Occurrence', 'occurrence_percentage', 'Weights']]\n",
    "    sample_grn_s1_additional['condition'] = 'CD8 Exhausted'\n",
    "\n",
    "    sample_grn_s2_additional = sample_grn_s2[['TFs', 'Genes', 'Occurrence', 'occurrence_percentage',  'Weights']]\n",
    "    sample_grn_s2_additional['condition'] = 'Macrophage'\n",
    "\n",
    "    additional_data = pd.concat([sample_grn_s1_additional, sample_grn_s2_additional])\n",
    "    \n",
    "    # Save additional data to a TSV file\n",
    "    additional_data.to_csv(output_additional_file, sep='\\t', index=False)"
   ]
  },
  {
   "cell_type": "code",
   "execution_count": 3,
   "metadata": {},
   "outputs": [
    {
     "name": "stderr",
     "output_type": "stream",
     "text": [
      "<ipython-input-2-40e17a2a776d>:10: SettingWithCopyWarning: \n",
      "A value is trying to be set on a copy of a slice from a DataFrame.\n",
      "Try using .loc[row_indexer,col_indexer] = value instead\n",
      "\n",
      "See the caveats in the documentation: https://pandas.pydata.org/pandas-docs/stable/user_guide/indexing.html#returning-a-view-versus-a-copy\n",
      "  sample_grn_s1_network['condition'] = 'CD8 Exhausted'\n",
      "<ipython-input-2-40e17a2a776d>:15: SettingWithCopyWarning: \n",
      "A value is trying to be set on a copy of a slice from a DataFrame.\n",
      "Try using .loc[row_indexer,col_indexer] = value instead\n",
      "\n",
      "See the caveats in the documentation: https://pandas.pydata.org/pandas-docs/stable/user_guide/indexing.html#returning-a-view-versus-a-copy\n",
      "  sample_grn_s2_network['condition'] = 'Macrophage'\n",
      "<ipython-input-2-40e17a2a776d>:29: SettingWithCopyWarning: \n",
      "A value is trying to be set on a copy of a slice from a DataFrame.\n",
      "Try using .loc[row_indexer,col_indexer] = value instead\n",
      "\n",
      "See the caveats in the documentation: https://pandas.pydata.org/pandas-docs/stable/user_guide/indexing.html#returning-a-view-versus-a-copy\n",
      "  sample_grn_s1_additional['condition'] = 'CD8 Exhausted'\n",
      "<ipython-input-2-40e17a2a776d>:32: SettingWithCopyWarning: \n",
      "A value is trying to be set on a copy of a slice from a DataFrame.\n",
      "Try using .loc[row_indexer,col_indexer] = value instead\n",
      "\n",
      "See the caveats in the documentation: https://pandas.pydata.org/pandas-docs/stable/user_guide/indexing.html#returning-a-view-versus-a-copy\n",
      "  sample_grn_s2_additional['condition'] = 'Macrophage'\n"
     ]
    }
   ],
   "source": [
    "Sample_1_CSV = r\"D:\\FAU Courses\\DiNiro\\Docker\\media\\N5k32wOE6uj5cFhYU5YSxlaeFi6e0Mk2\\sample_grn_s1.csv\"\n",
    "Sample_2_CSV = r\"D:\\FAU Courses\\DiNiro\\Docker\\media\\N5k32wOE6uj5cFhYU5YSxlaeFi6e0Mk2\\sample_grn_s2.csv\"\n",
    "\n",
    "merge_and_transform(Sample_1_CSV, Sample_2_CSV, 'network.tsv', 'additional_data.tsv')"
   ]
  },
  {
   "cell_type": "code",
   "execution_count": 18,
   "metadata": {},
   "outputs": [
    {
     "name": "stdout",
     "output_type": "stream",
     "text": [
      "     TFs     Genes  Occurrence  occurrence_percentage   Weights      condition\n",
      "0   ATF4     ANXA2           3                   75.0  1.642592  CD8 Exhausted\n",
      "1   ATF4    TUBA1C           3                   75.0  1.276014  CD8 Exhausted\n",
      "2   ATF4      CD63           3                   75.0  1.173603  CD8 Exhausted\n",
      "3   ATF4      ATF4           4                  100.0  1.000000  CD8 Exhausted\n",
      "4   ATF4      PRNP           4                  100.0  0.893119  CD8 Exhausted\n",
      "5   ATF4    CDKN1A           4                  100.0  0.829117  CD8 Exhausted\n",
      "6   ATF4      LMNA           3                   75.0  0.781883  CD8 Exhausted\n",
      "7   ATF4    HSPA1A           3                   75.0  0.756666  CD8 Exhausted\n",
      "8   ATF4      PMVK           4                  100.0  0.719250  CD8 Exhausted\n",
      "9   ATF4       REL           3                   75.0  0.666048  CD8 Exhausted\n",
      "10  ATF4    CYSTM1           3                   75.0  0.657963  CD8 Exhausted\n",
      "11  ATF4       JUN           4                  100.0  0.607812  CD8 Exhausted\n",
      "12  ATF4     PEA15           4                  100.0  0.591041  CD8 Exhausted\n",
      "13  ATF4      LCP1           3                   75.0  0.585936  CD8 Exhausted\n",
      "14  ATF4     CSRP1           3                   75.0  0.476113  CD8 Exhausted\n",
      "15  ATF4       FOS           4                  100.0  0.473236  CD8 Exhausted\n",
      "16  ATF4    NFKBIZ           3                   75.0  0.442684  CD8 Exhausted\n",
      "17  ATF4      RTN4           4                  100.0  0.431486  CD8 Exhausted\n",
      "18  ATF4  RALGAPA1           3                   75.0  0.405240  CD8 Exhausted\n",
      "19  ATF4  PPP1R15A           3                   75.0  0.399339  CD8 Exhausted\n"
     ]
    }
   ],
   "source": [
    "data = pd.read_csv('additional_data.tsv', sep='\\t')\n",
    "\n",
    "# Display the first few rows of the dataframe to check the contents\n",
    "print(data[:20])"
   ]
  },
  {
   "cell_type": "code",
   "execution_count": null,
   "metadata": {},
   "outputs": [],
   "source": []
  }
 ],
 "metadata": {
  "kernelspec": {
   "display_name": "myenv",
   "language": "python",
   "name": "python3"
  },
  "language_info": {
   "codemirror_mode": {
    "name": "ipython",
    "version": 3
   },
   "file_extension": ".py",
   "mimetype": "text/x-python",
   "name": "python",
   "nbconvert_exporter": "python",
   "pygments_lexer": "ipython3",
   "version": "3.9.19"
  }
 },
 "nbformat": 4,
 "nbformat_minor": 2
}
